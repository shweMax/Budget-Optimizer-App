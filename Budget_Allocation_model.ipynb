{
  "nbformat": 4,
  "nbformat_minor": 0,
  "metadata": {
    "colab": {
      "provenance": []
    },
    "kernelspec": {
      "name": "python3",
      "display_name": "Python 3"
    },
    "language_info": {
      "name": "python"
    }
  },
  "cells": [
    {
      "cell_type": "code",
      "execution_count": 15,
      "metadata": {
        "colab": {
          "base_uri": "https://localhost:8080/",
          "height": 191
        },
        "id": "3PBYm3gsPkW9",
        "outputId": "7f23d3c6-3444-4908-8c03-e944e2608d07"
      },
      "outputs": [
        {
          "output_type": "stream",
          "name": "stdout",
          "text": [
            "Requirement already satisfied: pandas in /usr/local/lib/python3.11/dist-packages (2.2.2)\n",
            "Requirement already satisfied: scikit-learn in /usr/local/lib/python3.11/dist-packages (1.6.1)\n",
            "Requirement already satisfied: numpy>=1.23.2 in /usr/local/lib/python3.11/dist-packages (from pandas) (2.0.2)\n",
            "Requirement already satisfied: python-dateutil>=2.8.2 in /usr/local/lib/python3.11/dist-packages (from pandas) (2.9.0.post0)\n",
            "Requirement already satisfied: pytz>=2020.1 in /usr/local/lib/python3.11/dist-packages (from pandas) (2025.2)\n",
            "Requirement already satisfied: tzdata>=2022.7 in /usr/local/lib/python3.11/dist-packages (from pandas) (2025.2)\n",
            "Requirement already satisfied: scipy>=1.6.0 in /usr/local/lib/python3.11/dist-packages (from scikit-learn) (1.15.3)\n",
            "Requirement already satisfied: joblib>=1.2.0 in /usr/local/lib/python3.11/dist-packages (from scikit-learn) (1.5.1)\n",
            "Requirement already satisfied: threadpoolctl>=3.1.0 in /usr/local/lib/python3.11/dist-packages (from scikit-learn) (3.6.0)\n",
            "Requirement already satisfied: six>=1.5 in /usr/local/lib/python3.11/dist-packages (from python-dateutil>=2.8.2->pandas) (1.17.0)\n"
          ]
        },
        {
          "output_type": "display_data",
          "data": {
            "text/plain": [
              "<IPython.core.display.Javascript object>"
            ],
            "application/javascript": [
              "\n",
              "    async function download(id, filename, size) {\n",
              "      if (!google.colab.kernel.accessAllowed) {\n",
              "        return;\n",
              "      }\n",
              "      const div = document.createElement('div');\n",
              "      const label = document.createElement('label');\n",
              "      label.textContent = `Downloading \"${filename}\": `;\n",
              "      div.appendChild(label);\n",
              "      const progress = document.createElement('progress');\n",
              "      progress.max = size;\n",
              "      div.appendChild(progress);\n",
              "      document.body.appendChild(div);\n",
              "\n",
              "      const buffers = [];\n",
              "      let downloaded = 0;\n",
              "\n",
              "      const channel = await google.colab.kernel.comms.open(id);\n",
              "      // Send a message to notify the kernel that we're ready.\n",
              "      channel.send({})\n",
              "\n",
              "      for await (const message of channel.messages) {\n",
              "        // Send a message to notify the kernel that we're ready.\n",
              "        channel.send({})\n",
              "        if (message.buffers) {\n",
              "          for (const buffer of message.buffers) {\n",
              "            buffers.push(buffer);\n",
              "            downloaded += buffer.byteLength;\n",
              "            progress.value = downloaded;\n",
              "          }\n",
              "        }\n",
              "      }\n",
              "      const blob = new Blob(buffers, {type: 'application/binary'});\n",
              "      const a = document.createElement('a');\n",
              "      a.href = window.URL.createObjectURL(blob);\n",
              "      a.download = filename;\n",
              "      div.appendChild(a);\n",
              "      a.click();\n",
              "      div.remove();\n",
              "    }\n",
              "  "
            ]
          },
          "metadata": {}
        },
        {
          "output_type": "display_data",
          "data": {
            "text/plain": [
              "<IPython.core.display.Javascript object>"
            ],
            "application/javascript": [
              "download(\"download_697c4e2b-02ec-4706-b79c-ca67bb9b386d\", \"rural_model.pkl\", 43756630)"
            ]
          },
          "metadata": {}
        }
      ],
      "source": [
        "# ✅ Step 1: Install required libraries\n",
        "!pip install pandas scikit-learn\n",
        "\n",
        "# ✅ Step 2: Import\n",
        "import pandas as pd\n",
        "from sklearn.ensemble import RandomForestRegressor\n",
        "from sklearn.multioutput import MultiOutputRegressor\n",
        "from sklearn.model_selection import train_test_split\n",
        "import pickle\n",
        "\n",
        "# ✅ Step 3: Load the dataset\n",
        "rural_df = pd.read_csv('/content/rural_budget_allocation_dataset.csv')\n",
        "\n",
        "# ✅ Step 4: Separate features and targets\n",
        "X = rural_df[['Income', 'HousingExpense', 'TransportationExpense', 'FoodExpense',\n",
        "              'UtilitiesExpense', 'EntertainmentExpense', 'Savings']]\n",
        "\n",
        "y = rural_df[['HousingBudget', 'TransportationBudget', 'FoodBudget',\n",
        "              'UtilitiesBudget', 'EntertainmentBudget', 'SavingsBudget']]\n",
        "\n",
        "# ✅ Step 5: Split the data\n",
        "X_train, X_test, y_train, y_test = train_test_split(X, y, test_size=0.2, random_state=42)\n",
        "\n",
        "# ✅ Step 6: Train a multi-output regression model\n",
        "base_model = RandomForestRegressor(n_estimators=100, random_state=42)\n",
        "model = MultiOutputRegressor(base_model)\n",
        "model.fit(X_train, y_train)\n",
        "\n",
        "# ✅ Step 7: Save the trained model\n",
        "with open('rural_model.pkl', 'wb') as f:\n",
        "    pickle.dump(model, f)\n",
        "\n",
        "# ✅ Step 8: Download model file\n",
        "from google.colab import files\n",
        "files.download('rural_model.pkl')\n"
      ]
    },
    {
      "cell_type": "code",
      "source": [
        "# ✅ Load urban dataset\n",
        "urban_df = pd.read_csv('/content/urban_budget_allocation_dataset.csv')\n",
        "\n",
        "# ✅ Split features and targets\n",
        "X_urban = urban_df[['Income', 'HousingExpense', 'TransportationExpense', 'FoodExpense',\n",
        "                    'UtilitiesExpense', 'EntertainmentExpense', 'Savings']]\n",
        "\n",
        "y_urban = urban_df[['HousingBudget', 'TransportationBudget', 'FoodBudget',\n",
        "                    'UtilitiesBudget', 'EntertainmentBudget', 'SavingsBudget']]\n",
        "\n",
        "# ✅ Split into train and test sets\n",
        "X_train_u, X_test_u, y_train_u, y_test_u = train_test_split(X_urban, y_urban, test_size=0.2, random_state=42)\n",
        "\n",
        "# ✅ Train urban model\n",
        "urban_base_model = RandomForestRegressor(n_estimators=100, random_state=42)\n",
        "urban_model = MultiOutputRegressor(urban_base_model)\n",
        "urban_model.fit(X_train_u, y_train_u)\n",
        "\n",
        "# ✅ Save the urban model\n",
        "with open('urban_model.pkl', 'wb') as f:\n",
        "    pickle.dump(urban_model, f)\n",
        "\n",
        "# ✅ Download urban model\n",
        "from google.colab import files\n",
        "files.download('urban_model.pkl')\n"
      ],
      "metadata": {
        "colab": {
          "base_uri": "https://localhost:8080/",
          "height": 17
        },
        "id": "8MaMzGleWh7G",
        "outputId": "c8bc37f3-4283-4aa4-86b0-41f389e3c6be"
      },
      "execution_count": 16,
      "outputs": [
        {
          "output_type": "display_data",
          "data": {
            "text/plain": [
              "<IPython.core.display.Javascript object>"
            ],
            "application/javascript": [
              "\n",
              "    async function download(id, filename, size) {\n",
              "      if (!google.colab.kernel.accessAllowed) {\n",
              "        return;\n",
              "      }\n",
              "      const div = document.createElement('div');\n",
              "      const label = document.createElement('label');\n",
              "      label.textContent = `Downloading \"${filename}\": `;\n",
              "      div.appendChild(label);\n",
              "      const progress = document.createElement('progress');\n",
              "      progress.max = size;\n",
              "      div.appendChild(progress);\n",
              "      document.body.appendChild(div);\n",
              "\n",
              "      const buffers = [];\n",
              "      let downloaded = 0;\n",
              "\n",
              "      const channel = await google.colab.kernel.comms.open(id);\n",
              "      // Send a message to notify the kernel that we're ready.\n",
              "      channel.send({})\n",
              "\n",
              "      for await (const message of channel.messages) {\n",
              "        // Send a message to notify the kernel that we're ready.\n",
              "        channel.send({})\n",
              "        if (message.buffers) {\n",
              "          for (const buffer of message.buffers) {\n",
              "            buffers.push(buffer);\n",
              "            downloaded += buffer.byteLength;\n",
              "            progress.value = downloaded;\n",
              "          }\n",
              "        }\n",
              "      }\n",
              "      const blob = new Blob(buffers, {type: 'application/binary'});\n",
              "      const a = document.createElement('a');\n",
              "      a.href = window.URL.createObjectURL(blob);\n",
              "      a.download = filename;\n",
              "      div.appendChild(a);\n",
              "      a.click();\n",
              "      div.remove();\n",
              "    }\n",
              "  "
            ]
          },
          "metadata": {}
        },
        {
          "output_type": "display_data",
          "data": {
            "text/plain": [
              "<IPython.core.display.Javascript object>"
            ],
            "application/javascript": [
              "download(\"download_de457417-7c78-43cf-a184-bb2c5d557ee2\", \"urban_model.pkl\", 43757926)"
            ]
          },
          "metadata": {}
        }
      ]
    }
  ]
}